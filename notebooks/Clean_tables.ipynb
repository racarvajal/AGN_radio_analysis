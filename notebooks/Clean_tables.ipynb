{
 "cells": [
  {
   "cell_type": "code",
   "execution_count": 1,
   "metadata": {},
   "outputs": [],
   "source": [
    "import numpy as np\n",
    "import astropy.units as u\n",
    "from astropy.table import Table\n",
    "import pandas as pd"
   ]
  },
  {
   "cell_type": "code",
   "execution_count": 2,
   "metadata": {},
   "outputs": [],
   "source": [
    "cat_path     = ''"
   ]
  },
  {
   "cell_type": "markdown",
   "metadata": {},
   "source": [
    "Full catalog"
   ]
  },
  {
   "cell_type": "code",
   "execution_count": 3,
   "metadata": {},
   "outputs": [],
   "source": [
    "cat_file     = 'Test_COSMOS_SDSSQ_Stripe_82.fits'"
   ]
  },
  {
   "cell_type": "code",
   "execution_count": 4,
   "metadata": {},
   "outputs": [],
   "source": [
    "cat_file_new = 'Test_COSMOS_SDSSQ_Stripe_82_clean.fits'"
   ]
  },
  {
   "cell_type": "code",
   "execution_count": 23,
   "metadata": {},
   "outputs": [],
   "source": [
    "table_data   = Table.read(cat_path + 'clean_catalogs/' + cat_file, format='fits')"
   ]
  },
  {
   "cell_type": "code",
   "execution_count": 24,
   "metadata": {},
   "outputs": [],
   "source": [
    "col_names    = table_data.colnames"
   ]
  },
  {
   "cell_type": "code",
   "execution_count": 25,
   "metadata": {},
   "outputs": [],
   "source": [
    "for count, column in enumerate(col_names):\n",
    "    if 'float' in table_data[column].dtype.name:\n",
    "        # print(count)\n",
    "        filt_hig = table_data[column] == 1e20\n",
    "        filt_nin = table_data[column] == 999999\n",
    "        filt_inf = np.isinf(table_data[column])\n",
    "        filt_neg = table_data[column] == -99.\n",
    "        filt     = filt_hig | filt_nin | filt_inf | filt_neg\n",
    "        table_data[column][filt] = np.nan\n",
    "    if 'int' in table_data[column].dtype.name:\n",
    "        # print(count)\n",
    "        filt_nin = table_data[column] == 999999\n",
    "        filt_inf = np.isinf(table_data[column])\n",
    "        filt_neg = table_data[column] == -99\n",
    "        filt     = filt_nin | filt_inf | filt_neg\n",
    "        table_data[column][filt] = 0"
   ]
  },
  {
   "cell_type": "code",
   "execution_count": 26,
   "metadata": {},
   "outputs": [],
   "source": [
    "table_data.write(cat_path + 'clean_catalogs/' + cat_file_new, format='fits', overwrite=True)"
   ]
  },
  {
   "cell_type": "code",
   "execution_count": 12,
   "metadata": {},
   "outputs": [
    {
     "data": {
      "text/plain": [
       "True"
      ]
     },
     "execution_count": 12,
     "metadata": {},
     "output_type": "execute_result"
    }
   ],
   "source": [
    "'int' in table_data['XID'].dtype.name"
   ]
  },
  {
   "cell_type": "markdown",
   "metadata": {},
   "source": [
    " FIRST"
   ]
  },
  {
   "cell_type": "code",
   "execution_count": null,
   "metadata": {},
   "outputs": [],
   "source": []
  },
  {
   "cell_type": "code",
   "execution_count": 3,
   "metadata": {},
   "outputs": [],
   "source": [
    "cat_file     = 'Helfand_2015_first_14dec17.fits'"
   ]
  },
  {
   "cell_type": "code",
   "execution_count": 4,
   "metadata": {},
   "outputs": [],
   "source": [
    "cat_file_new = 'Helfand_2015_first_14dec17.fits'"
   ]
  },
  {
   "cell_type": "code",
   "execution_count": 5,
   "metadata": {},
   "outputs": [],
   "source": [
    "table_data   = Table.read(cat_path + cat_file, format='fits')"
   ]
  },
  {
   "cell_type": "code",
   "execution_count": 6,
   "metadata": {},
   "outputs": [],
   "source": [
    "col_names    = table_data.colnames"
   ]
  },
  {
   "cell_type": "code",
   "execution_count": 7,
   "metadata": {},
   "outputs": [],
   "source": [
    "# SDSSQ\n",
    "for count, column in enumerate(col_names):\n",
    "    if 'float' in table_data[column].dtype.name:\n",
    "        # print(count)\n",
    "        filt_neg = table_data[column] == 99.\n",
    "        filt     = filt_neg\n",
    "        table_data[column][filt] = np.nan"
   ]
  },
  {
   "cell_type": "code",
   "execution_count": 8,
   "metadata": {},
   "outputs": [
    {
     "name": "stderr",
     "output_type": "stream",
     "text": [
      "WARNING: UnitsWarning: 'year' did not parse as fits unit: At col 0, Unit 'year' not supported by the FITS standard.  If this is meant to be a custom unit, define it with 'u.def_unit'. To have it recognized inside a file reader or other code, enable it with 'u.add_enabled_units'. For details, see http://docs.astropy.org/en/latest/units/combining_and_defining.html [astropy.units.core]\n",
      "WARNING: UnitsWarning: 'day' did not parse as fits unit: At col 0, Unit 'day' not supported by the FITS standard. Did you mean dA, da, daJy or dayr? If this is meant to be a custom unit, define it with 'u.def_unit'. To have it recognized inside a file reader or other code, enable it with 'u.add_enabled_units'. For details, see http://docs.astropy.org/en/latest/units/combining_and_defining.html [astropy.units.core]\n"
     ]
    }
   ],
   "source": [
    "table_data.write(cat_path + 'clean_catalogs/' + cat_file_new, format='fits', overwrite=True)"
   ]
  },
  {
   "cell_type": "markdown",
   "metadata": {},
   "source": [
    " SDSSQ"
   ]
  },
  {
   "cell_type": "code",
   "execution_count": null,
   "metadata": {},
   "outputs": [],
   "source": []
  },
  {
   "cell_type": "code",
   "execution_count": 9,
   "metadata": {},
   "outputs": [],
   "source": [
    "cat_file     = 'SDSS_DR16Q_v4.fits'"
   ]
  },
  {
   "cell_type": "code",
   "execution_count": 10,
   "metadata": {},
   "outputs": [],
   "source": [
    "cat_file_new = 'SDSS_DR16Q_v4.fits'"
   ]
  },
  {
   "cell_type": "code",
   "execution_count": 11,
   "metadata": {},
   "outputs": [],
   "source": [
    "table_data   = Table.read(cat_path + cat_file, format='fits')"
   ]
  },
  {
   "cell_type": "code",
   "execution_count": 12,
   "metadata": {},
   "outputs": [],
   "source": [
    "col_names    = table_data.colnames"
   ]
  },
  {
   "cell_type": "code",
   "execution_count": 13,
   "metadata": {},
   "outputs": [],
   "source": [
    "# SDSSQ\n",
    "for count, column in enumerate(col_names):\n",
    "    if 'float' in table_data[column].dtype.name:\n",
    "        # print(count)\n",
    "        filt_neg = table_data[column] == -1.\n",
    "        filt_zer = table_data[column] == 0.\n",
    "        filt     = filt_neg | filt_zer\n",
    "        table_data[column][filt] = np.nan"
   ]
  },
  {
   "cell_type": "code",
   "execution_count": 14,
   "metadata": {},
   "outputs": [],
   "source": [
    "table_data.write(cat_path + 'clean_catalogs/' + cat_file_new, format='fits', overwrite=True)"
   ]
  },
  {
   "cell_type": "markdown",
   "metadata": {},
   "source": [
    " SPIDERS"
   ]
  },
  {
   "cell_type": "code",
   "execution_count": null,
   "metadata": {},
   "outputs": [],
   "source": []
  },
  {
   "cell_type": "code",
   "execution_count": 15,
   "metadata": {},
   "outputs": [],
   "source": [
    "cat_file     = 'Coffey_2019_spiders_quasar_bhmass-DR14.fits'"
   ]
  },
  {
   "cell_type": "code",
   "execution_count": 16,
   "metadata": {},
   "outputs": [],
   "source": [
    "cat_file_new = 'Coffey_2019_spiders_quasar_bhmass-DR14.fits'"
   ]
  },
  {
   "cell_type": "code",
   "execution_count": 17,
   "metadata": {},
   "outputs": [],
   "source": [
    "table_data   = Table.read(cat_path + cat_file, format='fits')"
   ]
  },
  {
   "cell_type": "code",
   "execution_count": 18,
   "metadata": {},
   "outputs": [],
   "source": [
    "col_names    = table_data.colnames"
   ]
  },
  {
   "cell_type": "code",
   "execution_count": 19,
   "metadata": {},
   "outputs": [],
   "source": [
    "# SDSSQ\n",
    "for count, column in enumerate(col_names):\n",
    "    if 'float' in table_data[column].dtype.name:\n",
    "        # print(count)\n",
    "        filt_neg = table_data[column] == -99.\n",
    "        filt_zer = table_data[column] == 0.\n",
    "        filt     = filt_neg | filt_zer\n",
    "        table_data[column][filt] = np.nan"
   ]
  },
  {
   "cell_type": "code",
   "execution_count": 20,
   "metadata": {},
   "outputs": [],
   "source": [
    "table_data.write(cat_path + 'clean_catalogs/' + cat_file_new, format='fits', overwrite=True)"
   ]
  },
  {
   "cell_type": "markdown",
   "metadata": {},
   "source": [
    " LoTSS"
   ]
  },
  {
   "cell_type": "code",
   "execution_count": null,
   "metadata": {},
   "outputs": [],
   "source": []
  },
  {
   "cell_type": "code",
   "execution_count": 21,
   "metadata": {},
   "outputs": [],
   "source": [
    "cat_file     = 'LOFAR_HBA_T1_DR1_merge_ID_optical_f_v1.2b_restframe.fits'"
   ]
  },
  {
   "cell_type": "code",
   "execution_count": 22,
   "metadata": {},
   "outputs": [],
   "source": [
    "cat_file_new = 'LOFAR_HBA_T1_DR1_merge_ID_optical_f_v1.2b_restframe.fits'"
   ]
  },
  {
   "cell_type": "code",
   "execution_count": 23,
   "metadata": {},
   "outputs": [],
   "source": [
    "table_data   = Table.read(cat_path + cat_file, format='fits')"
   ]
  },
  {
   "cell_type": "code",
   "execution_count": 24,
   "metadata": {},
   "outputs": [],
   "source": [
    "col_names    = table_data.colnames"
   ]
  },
  {
   "cell_type": "code",
   "execution_count": 25,
   "metadata": {},
   "outputs": [],
   "source": [
    "# SDSSQ\n",
    "for count, column in enumerate(col_names):\n",
    "    if 'float' in table_data[column].dtype.name:\n",
    "        # print(count)\n",
    "        filt_zer = table_data[column] == 0.\n",
    "        filt     = filt_zer\n",
    "        table_data[column][filt] = np.nan"
   ]
  },
  {
   "cell_type": "code",
   "execution_count": 26,
   "metadata": {},
   "outputs": [],
   "source": [
    "table_data.write(cat_path + 'clean_catalogs/' + cat_file_new, format='fits', overwrite=True)"
   ]
  },
  {
   "cell_type": "markdown",
   "metadata": {},
   "source": [
    " Smolcic COSMOS"
   ]
  },
  {
   "cell_type": "code",
   "execution_count": null,
   "metadata": {},
   "outputs": [],
   "source": []
  },
  {
   "cell_type": "code",
   "execution_count": 27,
   "metadata": {},
   "outputs": [],
   "source": [
    "# cat_file     = 'Smolcic_2017_3ghz_counterparts_table1.fits'"
   ]
  },
  {
   "cell_type": "code",
   "execution_count": 28,
   "metadata": {},
   "outputs": [],
   "source": [
    "# cat_file_new = 'Smolcic_2017_3ghz_counterparts_table1.fits'"
   ]
  },
  {
   "cell_type": "code",
   "execution_count": 29,
   "metadata": {},
   "outputs": [],
   "source": [
    "# table_data   = Table.read(cat_path + cat_file, format='fits')"
   ]
  },
  {
   "cell_type": "code",
   "execution_count": 30,
   "metadata": {},
   "outputs": [],
   "source": [
    "col_names    = table_data.colnames"
   ]
  },
  {
   "cell_type": "code",
   "execution_count": 31,
   "metadata": {},
   "outputs": [],
   "source": [
    "# COSMOS. Not needed\n",
    "# for count, column in enumerate(col_names):\n",
    "#     if 'float' in table_data[column].dtype.name:\n",
    "#         # print(count)\n",
    "#         filt_neg = table_data[column] == -1.\n",
    "#         filt_zer = table_data[column] == 0.\n",
    "#         filt     = filt_neg | filt_zer\n",
    "#         table_data[column][filt] = np.nan"
   ]
  },
  {
   "cell_type": "code",
   "execution_count": 32,
   "metadata": {},
   "outputs": [],
   "source": [
    "# table_data.write(cat_path + 'clean_catalogs/' + cat_file_new, format='fits', overwrite=True)"
   ]
  },
  {
   "cell_type": "markdown",
   "metadata": {},
   "source": [
    " Schinnerer COSMOS"
   ]
  },
  {
   "cell_type": "code",
   "execution_count": null,
   "metadata": {},
   "outputs": [],
   "source": []
  },
  {
   "cell_type": "code",
   "execution_count": 33,
   "metadata": {},
   "outputs": [],
   "source": [
    "cat_file     = 'Schinnerer_2007_vlacosmos_table3.fits'"
   ]
  },
  {
   "cell_type": "code",
   "execution_count": 34,
   "metadata": {},
   "outputs": [],
   "source": [
    "cat_file_new = 'Schinnerer_2007_vlacosmos_table3.fits'"
   ]
  },
  {
   "cell_type": "code",
   "execution_count": 35,
   "metadata": {},
   "outputs": [],
   "source": [
    "table_data   = Table.read(cat_path + cat_file, format='fits')"
   ]
  },
  {
   "cell_type": "code",
   "execution_count": 36,
   "metadata": {},
   "outputs": [],
   "source": [
    "col_names    = table_data.colnames"
   ]
  },
  {
   "cell_type": "code",
   "execution_count": 37,
   "metadata": {},
   "outputs": [],
   "source": [
    "# SDSSQ\n",
    "for count, column in enumerate(col_names):\n",
    "    if 'float' in table_data[column].dtype.name:\n",
    "        # print(count)\n",
    "        filt_neg = table_data[column] == -99.\n",
    "        filt_zer = table_data[column] == 0.\n",
    "        filt     = filt_neg | filt_zer\n",
    "        table_data[column][filt] = np.nan"
   ]
  },
  {
   "cell_type": "code",
   "execution_count": 38,
   "metadata": {},
   "outputs": [],
   "source": [
    "table_data.write(cat_path + 'clean_catalogs/' + cat_file_new, format='fits', overwrite=True)"
   ]
  },
  {
   "cell_type": "markdown",
   "metadata": {},
   "source": [
    " Cappelluti XMM\n"
   ]
  },
  {
   "cell_type": "code",
   "execution_count": null,
   "metadata": {},
   "outputs": [],
   "source": []
  },
  {
   "cell_type": "code",
   "execution_count": 39,
   "metadata": {},
   "outputs": [],
   "source": [
    "cat_file     = 'Cappelluti_2009_xmmcosmos.fits'"
   ]
  },
  {
   "cell_type": "code",
   "execution_count": 40,
   "metadata": {},
   "outputs": [],
   "source": [
    "cat_file_new = 'Cappelluti_2009_xmmcosmos.fits'"
   ]
  },
  {
   "cell_type": "code",
   "execution_count": 41,
   "metadata": {},
   "outputs": [
    {
     "name": "stderr",
     "output_type": "stream",
     "text": [
      "WARNING: VerifyWarning: It is strongly recommended that column names contain only upper and lower-case ASCII letters, digits, or underscores for maximum compatibility with other software (got '---'). [astropy.io.fits.column]\n"
     ]
    }
   ],
   "source": [
    "table_data   = Table.read(cat_path + cat_file, format='fits')"
   ]
  },
  {
   "cell_type": "code",
   "execution_count": 42,
   "metadata": {},
   "outputs": [],
   "source": [
    "col_names    = table_data.colnames"
   ]
  },
  {
   "cell_type": "code",
   "execution_count": 43,
   "metadata": {},
   "outputs": [],
   "source": [
    "# SDSSQ\n",
    "for count, column in enumerate(col_names):\n",
    "    if 'float' in table_data[column].dtype.name:\n",
    "        # print(count)\n",
    "        filt_neg = table_data[column] == -1.\n",
    "        filt_zer = table_data[column] == 0.\n",
    "        filt     = filt_neg | filt_zer\n",
    "        table_data[column][filt] = np.nan"
   ]
  },
  {
   "cell_type": "code",
   "execution_count": 44,
   "metadata": {},
   "outputs": [],
   "source": [
    "table_data.write(cat_path + 'clean_catalogs/' + cat_file_new, format='fits', overwrite=True)"
   ]
  },
  {
   "cell_type": "markdown",
   "metadata": {},
   "source": [
    "Civano chandra"
   ]
  },
  {
   "cell_type": "code",
   "execution_count": null,
   "metadata": {},
   "outputs": [],
   "source": []
  },
  {
   "cell_type": "code",
   "execution_count": 45,
   "metadata": {},
   "outputs": [],
   "source": [
    "cat_file     = 'Civano_2016_cosmos_legacy_Chandra_table5.fits'"
   ]
  },
  {
   "cell_type": "code",
   "execution_count": 46,
   "metadata": {},
   "outputs": [],
   "source": [
    "cat_file_new = 'Civano_2016_cosmos_legacy_Chandra_table5.fits'"
   ]
  },
  {
   "cell_type": "code",
   "execution_count": 47,
   "metadata": {},
   "outputs": [],
   "source": [
    "table_data   = Table.read(cat_path + cat_file, format='fits')"
   ]
  },
  {
   "cell_type": "code",
   "execution_count": 48,
   "metadata": {},
   "outputs": [],
   "source": [
    "col_names    = table_data.colnames"
   ]
  },
  {
   "cell_type": "code",
   "execution_count": 49,
   "metadata": {},
   "outputs": [],
   "source": [
    "# SDSSQ\n",
    "for count, column in enumerate(col_names):\n",
    "    if 'float' in table_data[column].dtype.name:\n",
    "        # print(count)\n",
    "        filt_neg = table_data[column] == -99.\n",
    "        filt_zer = table_data[column] == 0.\n",
    "        filt     = filt_neg | filt_zer\n",
    "        table_data[column][filt] = np.nan"
   ]
  },
  {
   "cell_type": "code",
   "execution_count": 50,
   "metadata": {},
   "outputs": [],
   "source": [
    "table_data.write(cat_path + 'clean_catalogs/' + cat_file_new, format='fits', overwrite=True)"
   ]
  },
  {
   "cell_type": "markdown",
   "metadata": {},
   "source": [
    " Brusa XMM"
   ]
  },
  {
   "cell_type": "code",
   "execution_count": null,
   "metadata": {},
   "outputs": [],
   "source": []
  },
  {
   "cell_type": "code",
   "execution_count": 75,
   "metadata": {},
   "outputs": [],
   "source": [
    "cat_file     = 'Brusa_2010_cosmos_xmm_table2.fits'"
   ]
  },
  {
   "cell_type": "code",
   "execution_count": 76,
   "metadata": {},
   "outputs": [],
   "source": [
    "cat_file_new = 'Brusa_2010_cosmos_xmm_table2.fits'"
   ]
  },
  {
   "cell_type": "code",
   "execution_count": 77,
   "metadata": {},
   "outputs": [],
   "source": [
    "table_data   = Table.read(cat_path + cat_file, format='fits')"
   ]
  },
  {
   "cell_type": "code",
   "execution_count": 78,
   "metadata": {},
   "outputs": [],
   "source": [
    "col_names    = table_data.colnames"
   ]
  },
  {
   "cell_type": "code",
   "execution_count": 79,
   "metadata": {},
   "outputs": [],
   "source": [
    "# SDSSQ\n",
    "for count, column in enumerate(col_names):\n",
    "    if 'float' in table_data[column].dtype.name:\n",
    "        # print(count)\n",
    "        filt_neg_a = table_data[column] == -1.\n",
    "        filt_neg_b = table_data[column] == -99.\n",
    "        filt_zer   = table_data[column] == 0.\n",
    "        filt       = filt_neg_a | filt_neg_b | filt_zer\n",
    "        table_data[column][filt] = np.nan"
   ]
  },
  {
   "cell_type": "code",
   "execution_count": 80,
   "metadata": {},
   "outputs": [],
   "source": [
    "table_data.write(cat_path + 'clean_catalogs/' + cat_file_new, format='fits', overwrite=True)"
   ]
  },
  {
   "cell_type": "markdown",
   "metadata": {},
   "source": [
    " Ananna S82X"
   ]
  },
  {
   "cell_type": "code",
   "execution_count": null,
   "metadata": {},
   "outputs": [],
   "source": []
  },
  {
   "cell_type": "code",
   "execution_count": 57,
   "metadata": {},
   "outputs": [],
   "source": [
    "cat_file     = 'Ananna_2017_Stripe82X_table13.dat.fits'"
   ]
  },
  {
   "cell_type": "code",
   "execution_count": 58,
   "metadata": {},
   "outputs": [],
   "source": [
    "cat_file_new = 'Ananna_2017_Stripe82X_table13.dat.fits'"
   ]
  },
  {
   "cell_type": "code",
   "execution_count": 59,
   "metadata": {},
   "outputs": [],
   "source": [
    "table_data   = Table.read(cat_path + cat_file, format='fits')"
   ]
  },
  {
   "cell_type": "code",
   "execution_count": 60,
   "metadata": {},
   "outputs": [],
   "source": [
    "col_names    = table_data.colnames"
   ]
  },
  {
   "cell_type": "code",
   "execution_count": 61,
   "metadata": {},
   "outputs": [],
   "source": [
    "# SDSSQ\n",
    "for count, column in enumerate(col_names):\n",
    "    if 'float' in table_data[column].dtype.name:\n",
    "        # print(count)\n",
    "        filt_neg = table_data[column] == -99.\n",
    "        filt_zer = table_data[column] == 0.\n",
    "        filt     = filt_neg | filt_zer\n",
    "        table_data[column][filt] = np.nan"
   ]
  },
  {
   "cell_type": "code",
   "execution_count": 62,
   "metadata": {},
   "outputs": [
    {
     "name": "stderr",
     "output_type": "stream",
     "text": [
      "WARNING: UnitsWarning: '[10-7W]' did not parse as fits unit: Invalid character at col 0 If this is meant to be a custom unit, define it with 'u.def_unit'. To have it recognized inside a file reader or other code, enable it with 'u.add_enabled_units'. For details, see http://docs.astropy.org/en/latest/units/combining_and_defining.html [astropy.units.core]\n"
     ]
    }
   ],
   "source": [
    "table_data.write(cat_path + 'clean_catalogs/' + cat_file_new, format='fits', overwrite=True)"
   ]
  },
  {
   "cell_type": "markdown",
   "metadata": {},
   "source": [
    " LaMassa S82X"
   ]
  },
  {
   "cell_type": "code",
   "execution_count": null,
   "metadata": {},
   "outputs": [],
   "source": []
  },
  {
   "cell_type": "code",
   "execution_count": 63,
   "metadata": {},
   "outputs": [],
   "source": [
    "cat_file     = 'LaMassa_2019_s82x_eboss_catalog_submitted.fits'"
   ]
  },
  {
   "cell_type": "code",
   "execution_count": 64,
   "metadata": {},
   "outputs": [],
   "source": [
    "cat_file_new = 'LaMassa_2019_s82x_eboss_catalog_submitted.fits'"
   ]
  },
  {
   "cell_type": "code",
   "execution_count": 65,
   "metadata": {},
   "outputs": [],
   "source": [
    "table_data   = Table.read(cat_path + cat_file, format='fits')"
   ]
  },
  {
   "cell_type": "code",
   "execution_count": 66,
   "metadata": {},
   "outputs": [],
   "source": [
    "col_names    = table_data.colnames"
   ]
  },
  {
   "cell_type": "code",
   "execution_count": 67,
   "metadata": {},
   "outputs": [],
   "source": [
    "# SDSSQ\n",
    "for count, column in enumerate(col_names):\n",
    "    if 'float' in table_data[column].dtype.name:\n",
    "        # print(count)\n",
    "        filt_neg_a = table_data[column] == -999.\n",
    "        filt_neg_b = table_data[column] == -9.99\n",
    "        filt_zer   = table_data[column] == 0.\n",
    "        filt       = filt_neg_a | filt_neg_b | filt_zer\n",
    "        table_data[column][filt] = np.nan"
   ]
  },
  {
   "cell_type": "code",
   "execution_count": 68,
   "metadata": {},
   "outputs": [],
   "source": [
    "table_data.write(cat_path + 'clean_catalogs/' + cat_file_new, format='fits', overwrite=True)"
   ]
  },
  {
   "cell_type": "markdown",
   "metadata": {},
   "source": [
    " Hodge VLA\n"
   ]
  },
  {
   "cell_type": "code",
   "execution_count": null,
   "metadata": {},
   "outputs": [],
   "source": []
  },
  {
   "cell_type": "code",
   "execution_count": 69,
   "metadata": {},
   "outputs": [],
   "source": [
    "cat_file     = 'Hodge_2011_stripe82.dat.gz.fits'"
   ]
  },
  {
   "cell_type": "code",
   "execution_count": 70,
   "metadata": {},
   "outputs": [],
   "source": [
    "cat_file_new = 'Hodge_2011_stripe82.dat.gz.fits'"
   ]
  },
  {
   "cell_type": "code",
   "execution_count": 71,
   "metadata": {},
   "outputs": [],
   "source": [
    "table_data   = Table.read(cat_path + cat_file, format='fits')"
   ]
  },
  {
   "cell_type": "code",
   "execution_count": 72,
   "metadata": {},
   "outputs": [],
   "source": [
    "col_names    = table_data.colnames"
   ]
  },
  {
   "cell_type": "code",
   "execution_count": 73,
   "metadata": {},
   "outputs": [],
   "source": [
    "# SDSSQ\n",
    "for count, column in enumerate(col_names):\n",
    "    if 'float' in table_data[column].dtype.name:\n",
    "        # print(count)\n",
    "        filt_neg = table_data[column] == 99.\n",
    "        filt_zer = table_data[column] == 0.\n",
    "        filt     = filt_neg | filt_zer\n",
    "        table_data[column][filt] = np.nan"
   ]
  },
  {
   "cell_type": "code",
   "execution_count": 74,
   "metadata": {},
   "outputs": [],
   "source": [
    "table_data.write(cat_path + 'clean_catalogs/' + cat_file_new, format='fits', overwrite=True)"
   ]
  },
  {
   "cell_type": "code",
   "execution_count": null,
   "metadata": {},
   "outputs": [],
   "source": []
  },
  {
   "cell_type": "markdown",
   "metadata": {},
   "source": [
    " Ross+2020 + Carvajal+2020 + Bosman+2020 HzAGN"
   ]
  },
  {
   "cell_type": "code",
   "execution_count": null,
   "metadata": {},
   "outputs": [],
   "source": []
  },
  {
   "cell_type": "code",
   "execution_count": 43,
   "metadata": {},
   "outputs": [],
   "source": [
    "cat_file     = 'Ross_2020_high_z_QSO_VHzQs_ZYJHK_WISE_v3_extended.fits'"
   ]
  },
  {
   "cell_type": "code",
   "execution_count": 44,
   "metadata": {},
   "outputs": [],
   "source": [
    "cat_file_new = 'Ross_2020_high_z_QSO_VHzQs_ZYJHK_WISE_v3_extended.fits'"
   ]
  },
  {
   "cell_type": "code",
   "execution_count": 45,
   "metadata": {},
   "outputs": [],
   "source": [
    "table_data   = Table.read(cat_path + cat_file, format='fits')"
   ]
  },
  {
   "cell_type": "code",
   "execution_count": 46,
   "metadata": {},
   "outputs": [],
   "source": [
    "col_names    = table_data.colnames"
   ]
  },
  {
   "cell_type": "code",
   "execution_count": 47,
   "metadata": {},
   "outputs": [],
   "source": [
    "# Ross+2020\n",
    "for count, column in enumerate(col_names):\n",
    "    if 'float' in table_data[column].dtype.name:\n",
    "        # print(count)\n",
    "        filt_neg = table_data[column] == -999999500.0\n",
    "        filt_low = table_data[column] == -9.99999488E8\n",
    "        filt     = filt_neg | filt_low\n",
    "        table_data[column][filt] = np.nan"
   ]
  },
  {
   "cell_type": "code",
   "execution_count": 48,
   "metadata": {},
   "outputs": [],
   "source": [
    "table_data.write(cat_path + 'clean_catalogs/' + cat_file_new, format='fits', overwrite=True)"
   ]
  },
  {
   "cell_type": "code",
   "execution_count": null,
   "metadata": {},
   "outputs": [],
   "source": []
  },
  {
   "cell_type": "code",
   "execution_count": null,
   "metadata": {},
   "outputs": [],
   "source": []
  },
  {
   "cell_type": "markdown",
   "metadata": {},
   "source": [
    "Full catalog + Ross+2020"
   ]
  },
  {
   "cell_type": "code",
   "execution_count": 49,
   "metadata": {},
   "outputs": [],
   "source": [
    "cat_file     = 'Test_COMOS_SDSSQ_Stripe82_Ross.fits'"
   ]
  },
  {
   "cell_type": "code",
   "execution_count": 50,
   "metadata": {},
   "outputs": [],
   "source": [
    "cat_file_new = 'Test_COMOS_SDSSQ_Stripe82_Ross_clean.fits'"
   ]
  },
  {
   "cell_type": "code",
   "execution_count": 51,
   "metadata": {},
   "outputs": [],
   "source": [
    "table_data   = Table.read(cat_path + 'clean_catalogs/' + cat_file, format='fits')"
   ]
  },
  {
   "cell_type": "code",
   "execution_count": 52,
   "metadata": {},
   "outputs": [],
   "source": [
    "col_names    = table_data.colnames"
   ]
  },
  {
   "cell_type": "code",
   "execution_count": 53,
   "metadata": {},
   "outputs": [],
   "source": [
    "for count, column in enumerate(col_names):\n",
    "    if 'float' in table_data[column].dtype.name:\n",
    "        # print(count)\n",
    "        filt_hig = table_data[column] == 1e20\n",
    "        filt_nin = table_data[column] == 999999\n",
    "        filt_inf = np.isinf(table_data[column])\n",
    "        filt     = filt_hig | filt_nin | filt_inf\n",
    "        table_data[column][filt] = np.nan\n",
    "    if 'int' in table_data[column].dtype.name:\n",
    "        # print(count)\n",
    "        filt_nin = table_data[column] == 999999\n",
    "        filt_inf = np.isinf(table_data[column])\n",
    "        filt     = filt_nin | filt_inf\n",
    "        table_data[column][filt] = 0\n",
    "    if 'bytes' in table_data[column].dtype.name:\n",
    "        # print(count)\n",
    "        for count, entry in enumerate(table_data[column]):\n",
    "            filt_nav = \"N/A\" in entry\n",
    "            filt     = filt_nav\n",
    "            if filt: table_data[column][count] = \"\""
   ]
  },
  {
   "cell_type": "code",
   "execution_count": 54,
   "metadata": {},
   "outputs": [],
   "source": [
    "table_data.write(cat_path + 'clean_catalogs/' + cat_file_new, format='fits', overwrite=True)"
   ]
  },
  {
   "cell_type": "code",
   "execution_count": null,
   "metadata": {},
   "outputs": [],
   "source": []
  }
 ],
 "metadata": {
  "kernelspec": {
   "display_name": "Python 3",
   "language": "python",
   "name": "python3"
  },
  "language_info": {
   "codemirror_mode": {
    "name": "ipython",
    "version": 3
   },
   "file_extension": ".py",
   "mimetype": "text/x-python",
   "name": "python",
   "nbconvert_exporter": "python",
   "pygments_lexer": "ipython3",
   "version": "3.7.6"
  }
 },
 "nbformat": 4,
 "nbformat_minor": 4
}
