{
 "cells": [
  {
   "cell_type": "markdown",
   "metadata": {},
   "source": [
    "# Code to gather data from full AGN catalogue.\n",
    "\n",
    "We want to obtain data from several surveys and catalogs in order to  \n",
    "manipulate them and try to obtain meaningful correlations."
   ]
  },
  {
   "cell_type": "markdown",
   "metadata": {},
   "source": [
    "First, we import the packages to be used"
   ]
  },
  {
   "cell_type": "markdown",
   "metadata": {},
   "source": [
    "To get the first line working, you need  \n",
    "to run the following lines:\n",
    "\n",
    "```bash\n",
    " conda install nodejs\n",
    " pip install ipympl\n",
    " pip install --upgrade jupyterlab\n",
    " jupyter labextension install @jupyter-widgets/jupyterlab-manager\n",
    " jupyter labextension install jupyter-matplotlib\n",
    " jupyter nbextension enable --py widgetsnbextension\n",
    " ```"
   ]
  },
  {
   "cell_type": "code",
   "execution_count": 1,
   "metadata": {},
   "outputs": [],
   "source": [
    "%matplotlib inline\n",
    "# Static plots\n",
    "#%matplotlib ipympl\n",
    "# Interactive plots\n",
    "import numpy as np\n",
    "# import matplotlib.cm as cm\n",
    "import matplotlib.pyplot as plt\n",
    "import matplotlib.colors as mcolors\n",
    "import matplotlib.patheffects as mpe\n",
    "# import matplotlib.patheffects as path_effects\n",
    "# from matplotlib.ticker import FormatStrFormatter\n",
    "# from matplotlib.patches import Polygon\n",
    "from astropy.io import fits\n",
    "from astropy.table import Table\n",
    "from astropy.table import Column\n",
    "from astropy.table import MaskedColumn\n",
    "from astropy.table import hstack\n",
    "from astropy.table import vstack\n",
    "from astropy.table import join\n",
    "from astropy.wcs import WCS\n",
    "from astropy import units as u\n",
    "from astropy.cosmology import FlatLambdaCDM\n",
    "from astropy.coordinates import SkyCoord\n",
    "from astroquery.simbad import Simbad\n",
    "from astroquery.ned import Ned\n",
    "from urllib.request import urlopen\n",
    "import xmltodict\n",
    "import getpass\n",
    "import progressbar\n",
    "import pandas as pd\n",
    "import re"
   ]
  },
  {
   "cell_type": "markdown",
   "metadata": {},
   "source": [
    "Define the spectral index $\\alpha$ from different sources  \n",
    "to be used in the luminosity calculations (K-correction)"
   ]
  },
  {
   "cell_type": "code",
   "execution_count": 2,
   "metadata": {},
   "outputs": [],
   "source": [
    "alpha_first = 0.5  # From FIRST data (Bornancini+2010)\n",
    "alpha_RG    = 1.0  # For radio galaxies (Verkhodanov & Khabibullina, 2010)\n",
    "alpha_alex  = 0.8  # Star-forming galaxies (Alexander+2003)\n",
    "alpha_smol  = 0.7  # Mean value from VLA-COSMOS 3GHz sample (Smolčić et al. 2017)\n",
    "alpha_butl  = 0.75  # From Butler et al., 2018"
   ]
  },
  {
   "cell_type": "code",
   "execution_count": 3,
   "metadata": {},
   "outputs": [],
   "source": [
    "gamma_alex  = 2.0  # From Alexander+2003 (photon index for X-Rays)"
   ]
  },
  {
   "cell_type": "markdown",
   "metadata": {},
   "source": [
    "Choose one of the spectral indexes"
   ]
  },
  {
   "cell_type": "code",
   "execution_count": 4,
   "metadata": {},
   "outputs": [],
   "source": [
    "alpha_used  = alpha_butl"
   ]
  },
  {
   "cell_type": "code",
   "execution_count": 5,
   "metadata": {},
   "outputs": [],
   "source": [
    "gamma_used  = gamma_alex"
   ]
  },
  {
   "cell_type": "markdown",
   "metadata": {},
   "source": [
    "We define the cosmological properties to calculate luminosity distances and other quantities."
   ]
  },
  {
   "cell_type": "code",
   "execution_count": 6,
   "metadata": {},
   "outputs": [],
   "source": [
    "cosmo       = FlatLambdaCDM(H0=70, Om0=0.3)"
   ]
  },
  {
   "cell_type": "code",
   "execution_count": 7,
   "metadata": {},
   "outputs": [],
   "source": [
    "def lum_from_flux(flux, redshift):  # Flux in mJy\n",
    "    lum_distance = cosmo.luminosity_distance(redshift).to(u.m).value  # in m\n",
    "    luminosity   = 4 * np.pi * lum_distance**2 * flux * 1e-3  * 1e-26 * (1 + redshift)**(alpha_used - 1)  # in W/Hz\n",
    "    return luminosity"
   ]
  },
  {
   "cell_type": "code",
   "execution_count": 8,
   "metadata": {},
   "outputs": [],
   "source": [
    "pe1            = [mpe.Stroke(linewidth=3, foreground='black'),\n",
    "                  mpe.Stroke(foreground='white', alpha=1),\n",
    "                  mpe.Normal()]\n",
    "pe2            = [mpe.Stroke(linewidth=3.0, foreground='white'),\n",
    "                  mpe.Stroke(foreground='white', alpha=1),\n",
    "                  mpe.Normal()]"
   ]
  },
  {
   "cell_type": "markdown",
   "metadata": {},
   "source": [
    "---"
   ]
  },
  {
   "cell_type": "markdown",
   "metadata": {},
   "source": [
    "### Reading data"
   ]
  },
  {
   "cell_type": "markdown",
   "metadata": {},
   "source": [
    "Next step, reading our data.  \n",
    "We have created a catalogue file (.fits) with Topcat containing  \n",
    "data from several catalogues"
   ]
  },
  {
   "cell_type": "code",
   "execution_count": 9,
   "metadata": {},
   "outputs": [],
   "source": [
    "machine  = getpass.getuser()\n",
    "# cat_path = '/home/' + machine + '/Documentos/Data/'\n",
    "cat_path = '../clean_catalogs/'  # relative path to the same directory"
   ]
  },
  {
   "cell_type": "markdown",
   "metadata": {},
   "source": [
    "~~Read data from FIRST+MILLIQUAS catalogs cross-matched.~~  \n",
    "Read data from FIRST (from its version `14dec17`) crossmatched with  \n",
    "SDSS Quasar Catalog (`SDSSDR14Q_v4_4`).\n",
    "\n",
    "**FIRST + (SDSSQ)**   \n",
    "\n",
    "Redshift values have been retrieved from the column `pipeline_redshift` in SDSS DR12  \n",
    "The procedure to obtain these values is explained in **Bolton+2012**  \n",
    "\n",
    "We also select sources with have explicitely data in both SDSS Quasar Catalog and  \n",
    "in the FIRST survey (`first_match_flag = 1`).  \n",
    "\n",
    "In order to get only the best redshift values, we select sources with  \n",
    "`pipeline_redshift_flag = 0`.\n",
    "\n",
    "Thus, we can use 11238 objects from the catalog."
   ]
  },
  {
   "cell_type": "code",
   "execution_count": 10,
   "metadata": {},
   "outputs": [],
   "source": [
    "# full_init_table = Table.read(cat_path + 'COMOS_SDSSQ_Stripe82_Ross_Perger_merged_Nov_01.fits', format='fits')\n",
    "full_init_table = Table.read(cat_path + 'COMOS_SDSSQ_Stripe82_Ross_Perger_20cm_z_5_Nov_02.fits', format='fits')"
   ]
  },
  {
   "cell_type": "code",
   "execution_count": 11,
   "metadata": {},
   "outputs": [],
   "source": [
    "# full_init_table.colnames"
   ]
  },
  {
   "cell_type": "code",
   "execution_count": 12,
   "metadata": {},
   "outputs": [],
   "source": [
    "full_init_coords = SkyCoord(ra=full_init_table['RA'], dec=full_init_table['DEC'], unit=u.deg)"
   ]
  },
  {
   "cell_type": "markdown",
   "metadata": {},
   "source": [
    "Remove elements without coordinates."
   ]
  },
  {
   "cell_type": "code",
   "execution_count": 13,
   "metadata": {},
   "outputs": [],
   "source": [
    "filt_coords      = np.isnan(full_init_coords.ra)"
   ]
  },
  {
   "cell_type": "code",
   "execution_count": 14,
   "metadata": {},
   "outputs": [],
   "source": [
    "full_init_table  = full_init_table[~filt_coords]"
   ]
  },
  {
   "cell_type": "code",
   "execution_count": 15,
   "metadata": {},
   "outputs": [],
   "source": [
    "full_init_coords = full_init_coords[~filt_coords]"
   ]
  },
  {
   "cell_type": "markdown",
   "metadata": {},
   "source": [
    "Plot coordinates in the Sky."
   ]
  },
  {
   "cell_type": "code",
   "execution_count": 16,
   "metadata": {},
   "outputs": [
    {
     "data": {
      "image/png": "[encoded data removed]",
      "text/plain": [
       "<Figure size 1008x648 with 1 Axes>"
      ]
     },
     "metadata": {
      "needs_background": "light"
     },
     "output_type": "display_data"
    }
   ],
   "source": [
    "fig      = plt.figure(figsize=(14,9))\n",
    "ax1      = fig.add_subplot(111, projection='aitoff')\n",
    "\n",
    "# ra       = full_init_coords[:10000].ra.wrap_at(180*u.degree).rad\n",
    "# dec      = full_init_coords[:10000].dec.rad\n",
    "ra       = full_init_coords.ra.wrap_at(180*u.degree).rad\n",
    "dec      = full_init_coords.dec.rad\n",
    "\n",
    "\n",
    "# ax1.plot(ra, dec, marker='o', ls='None', markersize=2, alpha=0.5, color='grey', mec='k')\n",
    "# ax1.hexbin(ra, dec, cmap=plt.cm.Purples, gridsize=500, mincnt=1, bins='log')\n",
    "Z, _, __ = np.histogram2d(ra, dec, bins=200)\n",
    "ax1.pcolormesh(_, __, Z.T, cmap=plt.cm.magma, norm=mcolors.LogNorm(vmax=Z.max()))\n",
    "ax1.grid(True)\n",
    "ax1.set_xlabel('R.A.', size=14)\n",
    "ax1.set_ylabel('Decl.', size=14)\n",
    "ax1.tick_params(labelsize=14)\n",
    "# aaa = [val.get_text() for val in ax1.get_xticklabels()]\n",
    "# ax1.set_xticklabels(aaa, path_effects=pe2)\n",
    "plt.savefig('../plots/sky_distribution_cat_Nov_08.pdf')"
   ]
  },
  {
   "cell_type": "code",
   "execution_count": 17,
   "metadata": {},
   "outputs": [],
   "source": [
    "sample_size = np.shape(full_init_table)[0]"
   ]
  },
  {
   "cell_type": "markdown",
   "metadata": {},
   "source": [
    "Convert units, in general, to $\\mathrm{mJy}$ or $\\mathrm{Jy}$"
   ]
  },
  {
   "cell_type": "code",
   "execution_count": 18,
   "metadata": {},
   "outputs": [],
   "source": [
    "# full_init_table.info"
   ]
  },
  {
   "cell_type": "code",
   "execution_count": 19,
   "metadata": {},
   "outputs": [],
   "source": [
    "full_init_table['FUV'].unit = u.nanomaggy\n",
    "full_init_table['FUV_IVAR'].unit = u.nanomaggy\n",
    "full_init_table['NUV'].unit = u.nanomaggy\n",
    "full_init_table['NUV_IVAR'].unit = u.nanomaggy"
   ]
  },
  {
   "cell_type": "code",
   "execution_count": 20,
   "metadata": {},
   "outputs": [],
   "source": [
    "zero_point_star_equiv  = u.zero_point_flux(3631.1 * u.Jy)  # zero point to Jansky\n",
    "# full_init_table['FUV'] = u.Magnitude(full_init_table['FUV'].to(u.AB, zero_point_star_equiv))\n",
    "full_init_table['FUV'] = full_init_table['FUV'].to(u.AB, zero_point_star_equiv)\n",
    "full_init_table['FUV_IVAR'] = full_init_table['FUV_IVAR'].to(u.AB, zero_point_star_equiv)\n",
    "full_init_table['NUV'] = full_init_table['NUV'].to(u.AB, zero_point_star_equiv)\n",
    "full_init_table['NUV_IVAR'] = full_init_table['NUV_IVAR'].to(u.AB, zero_point_star_equiv)"
   ]
  },
  {
   "cell_type": "code",
   "execution_count": 21,
   "metadata": {},
   "outputs": [],
   "source": [
    "full_init_table['FUV'] = full_init_table['FUV'].to(u.Jy)\n",
    "full_init_table['FUV_IVAR'] = full_init_table['FUV_IVAR'].to(u.Jy)\n",
    "full_init_table['NUV'] = full_init_table['NUV'].to(u.Jy)\n",
    "full_init_table['NUV_IVAR'] = full_init_table['NUV_IVAR'].to(u.Jy)"
   ]
  },
  {
   "cell_type": "code",
   "execution_count": 22,
   "metadata": {},
   "outputs": [],
   "source": [
    "for col in ['FUV', 'FUV_IVAR', 'NUV', 'NUV_IVAR']:\n",
    "    filt_neg = np.array(full_init_table[col] <= 0)\n",
    "    full_init_table[col][filt_neg] = np.nan"
   ]
  },
  {
   "cell_type": "code",
   "execution_count": 23,
   "metadata": {},
   "outputs": [],
   "source": [
    "bands_freqs = {'2RXS_SRC_FLUX': 3.02e+17 * u.Hz, '2RXS_SRC_FLUX_ERR': 3.02e+17 * u.Hz,\\\n",
    "               'XMM_TOTAL_FLUX_ERR': 1.51e+18 * u.Hz, 'Soft_flux': 6.05e+17 * u.Hz, 'Soft_flux_err': 6.05e+17 * u.Hz,\\\n",
    "               'Hard_flux': 1.45e+18 * u.Hz, 'Hard_flux_err': 1.45e+18 * u.Hz, 'Full_flux': 1.51e+18 * u.Hz,\\\n",
    "               'S5-10': 1.81e+18 * u.Hz, 'e_S5-10': 1.81e+18 * u.Hz, 'F0.5-7': 9.07e+17 * u.Hz, 'e_F0.5-7': 9.07e+17 * u.Hz}"
   ]
  },
  {
   "cell_type": "code",
   "execution_count": 24,
   "metadata": {},
   "outputs": [],
   "source": [
    "# (full_init_table[column] / bands_freqs[column]).unit"
   ]
  },
  {
   "cell_type": "code",
   "execution_count": 25,
   "metadata": {},
   "outputs": [],
   "source": [
    "for column in full_init_table.columns:\n",
    "    col_unit = full_init_table[column].unit\n",
    "    if col_unit == u.mag:\n",
    "        full_init_table[column].unit = u.ABmag\n",
    "        full_init_table[column] = full_init_table[column].to(u.Jy)\n",
    "    elif col_unit == (u.W / u.Hz / u.m**2):\n",
    "        full_init_table[column] = full_init_table[column].to(u.Jy)\n",
    "    elif col_unit in [(u.erg / u.cm**2 /u.s), (1e-17 * u.W / u.m**2)]:  # Need frequency\n",
    "        full_init_table[column] = full_init_table[column] / bands_freqs[column]\n",
    "        full_init_table[column].unit /= u.Hz\n",
    "        full_init_table[column] = full_init_table[column].to(u.Jy)"
   ]
  },
  {
   "cell_type": "markdown",
   "metadata": {},
   "source": [
    "Then, we can query the database to obtain the desired data.  In this point,  \n",
    "we also add more columns to be queried."
   ]
  },
  {
   "cell_type": "code",
   "execution_count": 26,
   "metadata": {},
   "outputs": [],
   "source": [
    "query_simbad_flag               = False\n",
    "save_simbad_flag                = False\n",
    "load_simbad_flag                = True\n",
    "create_simbad_inayoshi_flag     = False\n",
    "read_simbad_inayoshi_flag       = False\n",
    "query_ned_names_flag            = False\n",
    "save_ned_names_flag             = False\n",
    "load_ned_names_flag             = False\n",
    "query_ned_zs_flag               = False\n",
    "save_ned_zs_flag                = False\n",
    "load_ned_zs_flag                = False\n",
    "query_ned_phot_flag             = False\n",
    "save_phot_bands_list_flag       = False\n",
    "load_phot_bands_list_flag       = False\n",
    "order_ned_phot_flag             = False\n",
    "save_ned_photo_flag             = False\n",
    "load_ned_photo_flag             = False\n",
    "group_bands_flag                = False\n",
    "save_group_bands_flag           = False\n",
    "load_group_bands_flag           = False\n",
    "merge_tables_flag               = False\n",
    "save_merged_tabs_flag           = False"
   ]
  },
  {
   "cell_type": "code",
   "execution_count": 27,
   "metadata": {},
   "outputs": [],
   "source": [
    "if query_simbad_flag:\n",
    "    customSimbad   = Simbad()\n",
    "    initial_fields = customSimbad.get_votable_fields()\n",
    "    \n",
    "    customSimbad.add_votable_fields('otypes')\n",
    "    if 'coordinates' in initial_fields:\n",
    "        customSimbad.remove_votable_fields('coordinates')\n",
    "        customSimbad.add_votable_fields('ra(d)', 'dec(d)')\n",
    "    if 'z_value' not in initial_fields:\n",
    "        customSimbad.add_votable_fields('z_value')\n",
    "    for band in ['B','V','R','I','J','K']:  # Fluxes are in units of magnitude\n",
    "        if f'fluxdata({band})' not in initial_fields:\n",
    "            customSimbad.add_votable_fields(f'flux({band})', f'flux_error({band})')"
   ]
  },
  {
   "cell_type": "markdown",
   "metadata": {},
   "source": [
    "To standardize results, queries  \n",
    "will only be based on coordinates (not names)."
   ]
  },
  {
   "cell_type": "markdown",
   "metadata": {},
   "source": [
    "Query objects in separate bunches to avoid overload."
   ]
  },
  {
   "cell_type": "code",
   "execution_count": 28,
   "metadata": {},
   "outputs": [],
   "source": [
    "# 'QSO' in str(aaa['OTYPES'].data.data[0], \"utf-8\")"
   ]
  },
  {
   "cell_type": "code",
   "execution_count": 29,
   "metadata": {},
   "outputs": [],
   "source": [
    "if query_simbad_flag:\n",
    "    result_table_simbad_tmp = Table()"
   ]
  },
  {
   "cell_type": "code",
   "execution_count": 30,
   "metadata": {},
   "outputs": [],
   "source": [
    "if query_simbad_flag:\n",
    "    query_error = 0\n",
    "    final_error = 0"
   ]
  },
  {
   "cell_type": "code",
   "execution_count": 31,
   "metadata": {},
   "outputs": [],
   "source": [
    "# import warnings\n",
    "# warnings.filterwarnings('ignore')"
   ]
  },
  {
   "cell_type": "code",
   "execution_count": 32,
   "metadata": {},
   "outputs": [],
   "source": [
    "sub_size = 2500\n",
    "if query_simbad_flag:\n",
    "    subsample_limits = np.arange(start=sub_size, stop=sample_size, step=sub_size, dtype=int)\n",
    "    for limit in subsample_limits:\n",
    "        max_lim = limit\n",
    "        if limit == subsample_limits[-1]: max_lim = sample_size\n",
    "        with progressbar.ProgressBar(min_value=(limit - sub_size), max_value=max_lim) as bar:\n",
    "            for index, coord in enumerate(full_init_coords[(limit - sub_size):max_lim]):\n",
    "                temp_table      = Table()\n",
    "                try:\n",
    "                    temp_table      = customSimbad.query_region(coord, radius=2.0*u.arcsec)\n",
    "                    if len(temp_table) == 0:\n",
    "                        temp_table      = Table(names=('RA_d', 'DEC_d'), dtype=(result_table_simbad_tmp['RA_d'].info.dtype,\\\n",
    "                                                                                result_table_simbad_tmp['DEC_d'].info.dtype))\n",
    "                        temp_table.add_row((coord.ra.deg, coord.dec.deg))\n",
    "                    temp_table.meta['description'] = 'Simbad_q'\n",
    "                except:\n",
    "                    temp_table      = Table(names=('RA_d', 'DEC_d'), dtype=(result_table_simbad_tmp['RA_d'].info.dtype,\\\n",
    "                                                                            result_table_simbad_tmp['DEC_d'].info.dtype))\n",
    "                    temp_table.add_row((coord.ra.deg, coord.dec.deg))\n",
    "                    temp_table.meta['description'] = 'Simbad_q'\n",
    "                    #print(f'Error with element {(index)} of the sample')\n",
    "                    query_error += 1\n",
    "                try:\n",
    "                    if temp_table['RA_d'].unit != 'deg':\n",
    "                        replacement_col     = MaskedColumn(temp_table['RA_d'].data, dtype=result_table_simbad_tmp['RA_d'].dtype,\\\n",
    "                                                           unit=result_table_simbad_tmp['RA_d'].unit,\\\n",
    "                                                           format=result_table_simbad_tmp['RA_d'].format,\\\n",
    "                                                           description=result_table_simbad_tmp['RA_d'].description)\n",
    "                        temp_table['RA_d']  = replacement_col\n",
    "                    if temp_table['DEC_d'].unit != 'deg':\n",
    "                        replacement_col     = MaskedColumn(temp_table['DEC_d'].data, dtype=result_table_simbad_tmp['DEC_d'].dtype,\\\n",
    "                                                           unit=result_table_simbad_tmp['DEC_d'].unit,\\\n",
    "                                                           format=result_table_simbad_tmp['DEC_d'].format,\\\n",
    "                                                           description=result_table_simbad_tmp['DEC_d'].description)\n",
    "                        temp_table['DEC_d']  = replacement_col\n",
    "                    result_table_simbad_tmp  = vstack([result_table_simbad_tmp, temp_table[0]])\n",
    "                except:\n",
    "                    print(f'Error with element {(index)} of the sample')\n",
    "                    temp_table      = Table(names=('RA_d', 'DEC_d'), dtype=(result_table_simbad_tmp['RA_d'].info.dtype,\\\n",
    "                                                                            result_table_simbad_tmp['DEC_d'].info.dtype))\n",
    "                    temp_table.add_row((coord.ra.deg, coord.dec.deg))\n",
    "                    temp_table.meta['description'] = 'Simbad_q'\n",
    "                    result_table_simbad_tmp = vstack([result_table_simbad_tmp, temp_table[0]])\n",
    "                    final_error += 1\n",
    "                bar.update(limit - sub_size + index)"
   ]
  },
  {
   "cell_type": "code",
   "execution_count": 33,
   "metadata": {},
   "outputs": [],
   "source": [
    "if query_simbad_flag:\n",
    "    result_table_simbad_tmp.info"
   ]
  },
  {
   "cell_type": "code",
   "execution_count": 34,
   "metadata": {},
   "outputs": [],
   "source": [
    "if query_simbad_flag:\n",
    "    for count, column in enumerate(result_table_simbad_tmp.colnames):\n",
    "        if 'float' in result_table_simbad_tmp[column].dtype.name:\n",
    "            result_table_simbad_tmp[column].fill_value = np.nan\n",
    "        if 'str' in result_table_simbad_tmp[column].dtype.name:\n",
    "            result_table_simbad_tmp[column].fill_value = ''"
   ]
  },
  {
   "cell_type": "code",
   "execution_count": 35,
   "metadata": {},
   "outputs": [],
   "source": [
    "if save_simbad_flag:\n",
    "    result_table_simbad = result_table_simbad_tmp\n",
    "    str_id = result_table_simbad['MAIN_ID'].astype('str')\n",
    "    otypes = result_table_simbad['OTYPES'].astype('str')\n",
    "    result_table_simbad.replace_column('MAIN_ID', str_id)\n",
    "    result_table_simbad.replace_column('OTYPES', otypes)"
   ]
  },
  {
   "cell_type": "code",
   "execution_count": 36,
   "metadata": {},
   "outputs": [],
   "source": [
    "if query_simbad_flag:\n",
    "    result_table_simbad.info"
   ]
  },
  {
   "cell_type": "code",
   "execution_count": 37,
   "metadata": {},
   "outputs": [],
   "source": [
    "if save_simbad_flag:\n",
    "    result_table_simbad.write(cat_path + 'simbad_query_flux_20cm_z_5_nov_02.fits', format='fits',\\\n",
    "                               overwrite=True)"
   ]
  },
  {
   "cell_type": "code",
   "execution_count": 38,
   "metadata": {},
   "outputs": [],
   "source": [
    "if load_simbad_flag:\n",
    "    result_table_simbad     = Table.read(cat_path + 'simbad_query_mJy_flux_20cm_z_5_nov_05.fits', format='fits');"
   ]
  },
  {
   "cell_type": "code",
   "execution_count": 39,
   "metadata": {},
   "outputs": [],
   "source": [
    "customNed             = Ned()\n",
    "flds_to_rmv_phot = ['Photometry Measurement', 'Uncertainty', 'Units', 'Significance',\\\n",
    "                    'Published frequency', 'Frequency Mode', 'Coordinates Targeted', 'Spatial Mode',\\\n",
    "                    'Qualifiers', 'Comments']\n",
    "flds_to_rmv_init = ['No', 'Velocity', 'Magnitude and Filter', 'References', 'Notes', 'Positions',\\\n",
    "                    'Redshift Points', 'Diameter Points', 'Associations']"
   ]
  },
  {
   "cell_type": "markdown",
   "metadata": {},
   "source": [
    "Cone search. RA, Dec in degrees. Search radius in arcmin"
   ]
  },
  {
   "cell_type": "markdown",
   "metadata": {},
   "source": [
    "Querying sources with name in `Ned`."
   ]
  },
  {
   "cell_type": "markdown",
   "metadata": {},
   "source": [
    "As before, we can do it with coordinates.  \n",
    "\n",
    "First, we query the coordinates. If we found something,  \n",
    "we use the name of the source to obtain it photometry."
   ]
  },
  {
   "cell_type": "code",
   "execution_count": 40,
   "metadata": {},
   "outputs": [],
   "source": [
    "if query_ned_names_flag:\n",
    "    empty_tab_name_counter  = 0\n",
    "    empty_tab_photo_counter = 0\n",
    "    error_tab_name_counter  = 0\n",
    "    error_tab_photo_counter = 0\n",
    "    ned_tables              = {}\n",
    "    ned_rows                = []\n",
    "    ned_info                = {}\n",
    "    ned_names               = []\n",
    "    ned_zs                  = []"
   ]
  },
  {
   "cell_type": "code",
   "execution_count": 41,
   "metadata": {},
   "outputs": [],
   "source": [
    "if query_ned_names_flag:\n",
    "    with progressbar.ProgressBar(min_value=0, max_value=sample_size) as bar:\n",
    "        for index, coord in enumerate(full_init_coords):\n",
    "            ra_t   = coord.ra.deg.round(5)\n",
    "            dec_t  = coord.dec.deg.round(5)\n",
    "            radius = (2.0 * u.arcsec).to(u.degree).value.round(5)\n",
    "            domain = 'http://ned.ipac.caltech.edu/cgi-bin/nph-objsearch'\n",
    "            search_type = 'Near+Position+Search'\n",
    "            xml_v  = 'xml_main'\n",
    "            search_url = f'{domain}?%20search_type={search_type}&of={xml_v}&%20RA={ra_t}&DEC={dec_t}&SR={radius}'\n",
    "            \n",
    "            xml_file = urlopen(search_url)\n",
    "            xml_data = xml_file.read()\n",
    "            xml_file.close()\n",
    "            dict_data = xmltodict.parse(xml_data)\n",
    "            try:\n",
    "                ned_name  = dict_data['VOTABLE']['RESOURCE']['TABLE']['DATA']['TABLEDATA']['TR'][0]['TD'][1]  # Could be empty if no match\n",
    "                ned_ra    = dict_data['VOTABLE']['RESOURCE']['TABLE']['DATA']['TABLEDATA']['TR'][0]['TD'][2]  # R.A.\n",
    "                ned_dec   = dict_data['VOTABLE']['RESOURCE']['TABLE']['DATA']['TABLEDATA']['TR'][0]['TD'][3]  # Declination\n",
    "                ned_otype = dict_data['VOTABLE']['RESOURCE']['TABLE']['DATA']['TABLEDATA']['TR'][0]['TD'][4]  # obs type (G, QSO, etc.)\n",
    "                ned_zval  = dict_data['VOTABLE']['RESOURCE']['TABLE']['DATA']['TABLEDATA']['TR'][0]['TD'][6]  # redshift\n",
    "                ned_sep   = dict_data['VOTABLE']['RESOURCE']['TABLE']['DATA']['TABLEDATA']['TR'][0]['TD'][9]  # Separation\n",
    "                \n",
    "                if ned_name == None:\n",
    "                    ned_name = 'No Name'\n",
    "                if ned_zval == None:\n",
    "                    ned_zval = full_init_table['redshift'][index]\n",
    "                \n",
    "                temp_row  = (ned_name, float(ned_ra), float(ned_dec), round(float(ned_zval), 4), ned_otype)\n",
    "                \n",
    "                ned_zs.append(round(float(ned_zval), 4))\n",
    "                ned_names.append(ned_name)\n",
    "                ned_rows.append(temp_row)\n",
    "            except:\n",
    "                try:\n",
    "                    ned_name  = dict_data['VOTABLE']['RESOURCE']['TABLE']['DATA']['TABLEDATA']['TR']['TD'][1]  # Could be empty if no match\n",
    "                    ned_ra    = dict_data['VOTABLE']['RESOURCE']['TABLE']['DATA']['TABLEDATA']['TR']['TD'][2]  # R.A.\n",
    "                    ned_dec   = dict_data['VOTABLE']['RESOURCE']['TABLE']['DATA']['TABLEDATA']['TR']['TD'][3]  # Declination\n",
    "                    ned_otype = dict_data['VOTABLE']['RESOURCE']['TABLE']['DATA']['TABLEDATA']['TR']['TD'][4]  # obs type (G, QSO, etc.)\n",
    "                    ned_zval  = dict_data['VOTABLE']['RESOURCE']['TABLE']['DATA']['TABLEDATA']['TR']['TD'][6]  # redshift\n",
    "                    ned_sep   = dict_data['VOTABLE']['RESOURCE']['TABLE']['DATA']['TABLEDATA']['TR']['TD'][9]  # Separation\n",
    "                    \n",
    "                    if ned_name == None:\n",
    "                        ned_name = 'No Name'\n",
    "                    if ned_zval == None:\n",
    "                        ned_zval = full_init_table['redshift'][index]\n",
    "                    \n",
    "                    temp_row  = (str(ned_name), float(ned_ra), float(ned_dec), round(float(ned_zval), 4), ned_otype)\n",
    "                    \n",
    "                    ned_zs.append(round(float(ned_zval), 4))\n",
    "                    ned_names.append(ned_name)\n",
    "                    ned_rows.append(temp_row)\n",
    "                except:\n",
    "                    temp_row  = ('No Name', ra_t, dec_t, full_init_table['redshift'][index].round(4), '')\n",
    "                    ned_rows.append(temp_row)\n",
    "                    ned_names.append('No Name')\n",
    "                    ned_zs.append(full_init_table['redshift'][index].round(4))\n",
    "                    # empty_tab_name_counter += 1\n",
    "                    error_tab_name_counter += 1\n",
    "                    # bar.update(index)\n",
    "            bar.update(index)"
   ]
  },
  {
   "cell_type": "code",
   "execution_count": 42,
   "metadata": {},
   "outputs": [],
   "source": [
    "if query_ned_names_flag:\n",
    "    tab_ned_names = Table(rows=ned_rows, names=['Name_ned', 'ra', 'dec', 'redshift_ned', 'object type'])\n",
    "    tab_ned_names['ra'].unit = 'deg'\n",
    "    tab_ned_names['dec'].unit = 'deg'"
   ]
  },
  {
   "cell_type": "code",
   "execution_count": 43,
   "metadata": {},
   "outputs": [],
   "source": [
    "if save_ned_names_flag:\n",
    "    tab_ned_names.write(cat_path + 'ned_names_query_flux_20cm_z_5_nov_03.fits',\\\n",
    "                        format='fits', overwrite=True)"
   ]
  },
  {
   "cell_type": "code",
   "execution_count": 44,
   "metadata": {},
   "outputs": [],
   "source": [
    "if load_ned_names_flag:\n",
    "    tab_ned_names = Table.read(cat_path + 'ned_names_query_flux_20cm_z_5_nov_03.fits', format='fits')\n",
    "    tab_ned_names['Name_ned'].astype('str')\n",
    "    ned_names     = tab_ned_names['Name_ned'].astype('str').data\n",
    "    ned_zs        = tab_ned_names['redshift_ned'].data"
   ]
  },
  {
   "cell_type": "code",
   "execution_count": 45,
   "metadata": {},
   "outputs": [],
   "source": [
    "if query_ned_zs_flag:\n",
    "    ned_zs_unc = []"
   ]
  },
  {
   "cell_type": "code",
   "execution_count": 46,
   "metadata": {},
   "outputs": [],
   "source": [
    "if query_ned_zs_flag:\n",
    "    with progressbar.ProgressBar(min_value=0, max_value=sample_size) as bar:\n",
    "        for index, (name, ned_z) in enumerate(zip(ned_names, ned_zs)):\n",
    "            if name == 'No Name':\n",
    "                ned_zs_unc.append(np.nan)\n",
    "                bar.update(index)\n",
    "                continue\n",
    "            try:\n",
    "                temp_z_tab = customNed.get_table(name, table='redshifts')\n",
    "                ned_z_e    = float(temp_z_tab['Published Redshift Uncertainty'][0])\n",
    "                if ned_z_e < 0:\n",
    "                    ned_zs_unc.append(np.nan)\n",
    "                elif not np.isfinite(ned_z_e):\n",
    "                    ned_zs_unc.append(np.nan)\n",
    "                else:\n",
    "                    ned_zs_unc.append(ned_z_e)\n",
    "            except:\n",
    "                ned_zs_unc.append(np.nan)\n",
    "            bar.update(index)"
   ]
  },
  {
   "cell_type": "code",
   "execution_count": 47,
   "metadata": {},
   "outputs": [],
   "source": [
    "if query_ned_zs_flag:\n",
    "    ned_zs_unc_a   = np.array(ned_zs_unc)\n",
    "    ned_zs_unc_col = Column(ned_zs_unc, name='z_ned_err')"
   ]
  },
  {
   "cell_type": "code",
   "execution_count": 48,
   "metadata": {},
   "outputs": [],
   "source": [
    "if query_ned_zs_flag:\n",
    "    tab_ned_names.add_column(ned_zs_unc_col)"
   ]
  },
  {
   "cell_type": "code",
   "execution_count": 49,
   "metadata": {},
   "outputs": [],
   "source": [
    "if save_ned_zs_flag:\n",
    "    tab_ned_names.write(cat_path + 'ned_names_zs_flux_20cm_z_5_nov_04.fits', format='fits', overwrite=True)"
   ]
  },
  {
   "cell_type": "code",
   "execution_count": 50,
   "metadata": {},
   "outputs": [],
   "source": [
    "if load_ned_zs_flag:\n",
    "    tab_ned_names = Table.read(cat_path + 'ned_names_zs_flux_20cm_z_5_nov_04.fits', format='fits')"
   ]
  },
  {
   "cell_type": "code",
   "execution_count": 51,
   "metadata": {},
   "outputs": [],
   "source": [
    "if query_ned_phot_flag:\n",
    "    empty_tab_photo_counter = 0\n",
    "    error_tab_photo_counter = 0\n",
    "    ned_tables              = {}\n",
    "    ned_freqs               = []"
   ]
  },
  {
   "cell_type": "code",
   "execution_count": 52,
   "metadata": {},
   "outputs": [],
   "source": [
    "if query_ned_phot_flag:\n",
    "    with progressbar.ProgressBar(min_value=0, max_value=sample_size) as bar:\n",
    "        for index, name in enumerate(tab_ned_names['Name_ned']):\n",
    "            try:\n",
    "                if name == 'No Name':\n",
    "                    # phot_table        = Table(names=('Observed Passband',), dtype=('str',), masked=True)\n",
    "                    # phot_table.add_row(('No Passband',), mask=(True,))\n",
    "                    first_row         = [[0], ['No Passband']]\n",
    "                    phot_table        = Table(first_row, names=('No.', 'Observed Passband'), dtype=('int', 'str'), masked=True)\n",
    "                    ned_tables[index] = phot_table\n",
    "                    empty_tab_photo_counter += 1\n",
    "                    bar.update(index)\n",
    "                    continue\n",
    "                phot_table            = customNed.get_table(name, table='photometry', output_table_format=3)\n",
    "                pass_name  = phot_table['Observed Passband'].astype('str')\n",
    "                ned_unit   = phot_table['NED Units'].astype('str')\n",
    "                ned_ref    = phot_table['Refcode'].astype('str')\n",
    "                ned_unc    = phot_table['NED Uncertainty'].astype('str')\n",
    "                phot_table.replace_column('Observed Passband', pass_name)\n",
    "                phot_table.replace_column('NED Units', ned_unit)\n",
    "                phot_table.replace_column('Refcode', ned_ref)\n",
    "                phot_table.replace_column('NED Uncertainty', ned_unc)\n",
    "                phot_table.remove_columns(flds_to_rmv_phot)\n",
    "                ned_tables[index]     = phot_table\n",
    "                # Add frequencies to list\n",
    "                for band, freq in zip(phot_table['Observed Passband'], phot_table['Frequency']):\n",
    "                    ned_freqs.append([band, freq])\n",
    "            except:\n",
    "                # phot_table            = Table(names=('Observed Passband',), dtype=('str',), masked=True)\n",
    "                # phot_table.add_row(('No Passband',), mask=(True,))\n",
    "                first_row             = [[0], ['No Passband']]\n",
    "                phot_table            = Table(first_row, names=('No.', 'Observed Passband'), dtype=('int', 'str'), masked=True)\n",
    "                ned_tables[index]     = phot_table\n",
    "                error_tab_photo_counter += 1\n",
    "            bar.update(index)"
   ]
  },
  {
   "cell_type": "code",
   "execution_count": 53,
   "metadata": {},
   "outputs": [],
   "source": [
    "if query_ned_phot_flag:\n",
    "    ned_freqs_a    = np.array(ned_freqs)\n",
    "    uniq, uniq_idx = np.unique(ned_freqs_a[:, 0], return_index=True)\n",
    "    # unique_rows_band_names_array = ned_freqs_a[uniq_idx, :]\n",
    "    unique_rows_band_names_array = ned_freqs_a[uniq_idx][ned_freqs_a[uniq_idx, 1].astype(np.float).argsort()]"
   ]
  },
  {
   "cell_type": "markdown",
   "metadata": {},
   "source": [
    "Saving this list into a plain text file."
   ]
  },
  {
   "cell_type": "code",
   "execution_count": 54,
   "metadata": {},
   "outputs": [],
   "source": [
    "if save_phot_bands_list_flag:\n",
    "    np.savetxt(cat_path + 'ned_band_names_freqs_nov_04.txt', unique_rows_band_names_array, fmt='%s %s', delimiter='\\t')"
   ]
  },
  {
   "cell_type": "markdown",
   "metadata": {},
   "source": [
    "This new file can also be loaded."
   ]
  },
  {
   "cell_type": "code",
   "execution_count": 55,
   "metadata": {},
   "outputs": [],
   "source": [
    "if load_phot_bands_list_flag:\n",
    "    # unique_rows_band_names_array = np.genfromtxt(cat_path + 'ned_band_names_freqs_nov_04.txt', delimiter='\\t', dtype=str)\n",
    "    unique_rows_band_names_array = np.loadtxt(cat_path + 'ned_band_names_freqs_nov_04.txt', delimiter='\\t', dtype=str)\n",
    "    unique_band_names            = unique_rows_band_names_array[:, 0]\n",
    "    unique_band_freqs            = unique_rows_band_names_array[:, 1].astype(float)"
   ]
  },
  {
   "cell_type": "code",
   "execution_count": 56,
   "metadata": {},
   "outputs": [],
   "source": [
    "if order_ned_phot_flag:\n",
    "    ned_phot_rows = []"
   ]
  },
  {
   "cell_type": "code",
   "execution_count": 57,
   "metadata": {},
   "outputs": [],
   "source": [
    "if order_ned_phot_flag:\n",
    "    with progressbar.ProgressBar(min_value=0, max_value=sample_size) as bar:\n",
    "        for index, name in enumerate(tab_ned_names['Name_ned']):  # Some names will be 'No Name'\n",
    "            temp_table = ned_tables[index]\n",
    "            temp_table.add_index('Observed Passband')\n",
    "            bands_in_tab = temp_table['Observed Passband']\n",
    "            if name == 'No Name':\n",
    "                temp_row = ['No Name'] + [entry for band in unique_rows_band_names_array[:, 0] for entry in [np.nan, '']]\n",
    "                ned_phot_rows.append(temp_row)\n",
    "                bar.update(index)\n",
    "                continue\n",
    "            temp_row = [name]\n",
    "            for band in unique_rows_band_names_array[:, 0]:\n",
    "                if band not in temp_table['Observed Passband'].data.data.tolist():\n",
    "                    temp_row = temp_row + [np.nan, '']\n",
    "                elif band in temp_table['Observed Passband'].data.data.tolist():\n",
    "                    band_info = temp_table.loc[band]['Observed Passband']\n",
    "                    if isinstance(band_info, MaskedColumn):\n",
    "                        temp_row = temp_row + [temp_table.loc[band][0]['Flux Density'], temp_table.loc[band][0]['NED Uncertainty']]\n",
    "                    elif isinstance(band_info, str):\n",
    "                        temp_row = temp_row + [temp_table.loc[band]['Flux Density'], temp_table.loc[band]['NED Uncertainty']]\n",
    "            ned_phot_rows.append(temp_row)\n",
    "            bar.update(index)"
   ]
  },
  {
   "cell_type": "code",
   "execution_count": 58,
   "metadata": {},
   "outputs": [],
   "source": [
    "if order_ned_phot_flag:\n",
    "    phot_cols = ['Object Name'] + [prefix_ned + band for band in unique_rows_band_names_array[:, 0] for prefix_ned in ['Flux ', 'Flux Error ']]"
   ]
  },
  {
   "cell_type": "code",
   "execution_count": 59,
   "metadata": {},
   "outputs": [],
   "source": [
    "if order_ned_phot_flag:\n",
    "    tab_ned_phot = Table(rows=ned_phot_rows, names=phot_cols)"
   ]
  },
  {
   "cell_type": "code",
   "execution_count": null,
   "metadata": {},
   "outputs": [],
   "source": []
  },
  {
   "cell_type": "code",
   "execution_count": 60,
   "metadata": {},
   "outputs": [],
   "source": [
    "if save_ned_photo_flag:\n",
    "    tab_ned_phot_df = tab_ned_phot.to_pandas()\n",
    "    tab_ned_phot_df.to_hdf(cat_path + 'ned_phot_flux_20cm_z_5_nov_04.h5', 'df')\n",
    "    tab_ned_phot.write(cat_path + 'ned_phot_flux_20cm_z_5_nov_04.fits', format='fits', overwrite=True) # Won't work. More than 1000 cols"
   ]
  },
  {
   "cell_type": "code",
   "execution_count": 61,
   "metadata": {},
   "outputs": [],
   "source": [
    "if load_ned_photo_flag:\n",
    "    tab_ned_phot_df = pd.read_hdf(cat_path + 'ned_phot_flux_20cm_z_5_nov_04.h5', key='df')"
   ]
  },
  {
   "cell_type": "code",
   "execution_count": 62,
   "metadata": {},
   "outputs": [],
   "source": [
    "if load_ned_photo_flag:  # Clean values from negative fluxes and uncertainties\n",
    "    for col_name in tab_ned_phot_df.columns.values[1::2]:\n",
    "        filt_neg = np.array(tab_ned_phot_df[col_name] <= 0.)\n",
    "        tab_ned_phot_df[col_name][filt_neg] = np.nan\n",
    "    tab_ned_phot    = Table.from_pandas(tab_ned_phot_df)\n",
    "    for col_name in tab_ned_phot_df.columns.values[1::2]:\n",
    "        tab_ned_phot[col_name].unit = 'Jy'"
   ]
  },
  {
   "cell_type": "markdown",
   "metadata": {},
   "source": [
    "Separate columns (bands) by pre-defined frequency ranges."
   ]
  },
  {
   "cell_type": "code",
   "execution_count": 63,
   "metadata": {},
   "outputs": [],
   "source": [
    "if group_bands_flag:\n",
    "    band_names_flux         = np.array(['Flux ' + band_name for band_name in unique_band_names])"
   ]
  },
  {
   "cell_type": "code",
   "execution_count": 64,
   "metadata": {},
   "outputs": [],
   "source": [
    "if group_bands_flag:\n",
    "    limits_freqs = np.array([5.0e07, 1.0e08, 2.0e08, 5.0e08, 9.0e08, 1.3e09, 2.0e09, 7.0e09, 2.0e10, 5.0e10, 8.0e10,\\\n",
    "                             1.2e11, 1.9e11, 5.0e11, 2.0e12, 7.0e12, 3.2e13, 1.0e14, 1.6e14, 2.0e14, 2.6e14, 3.5e14,\\\n",
    "                             4.1e14, 5.0e14, 5.7e14, 6.6e14, 7.6e14, 9.0e14, 1.6e15, 2.4e15, 1.5e17, 4.0e18, 1.0e20,\\\n",
    "                             1.3e25])  # Hz"
   ]
  },
  {
   "cell_type": "code",
   "execution_count": 65,
   "metadata": {},
   "outputs": [],
   "source": [
    "if group_bands_flag:\n",
    "    limits_names = np.array(['10-38 MHz', '60-86 MHz', '111-178 MHz', '230-468 MHz', '599.1-785.8 MHz', '960-1381 MHz',\\\n",
    "                             '1.4-1.7 GHz', '2.2-5.5 GHz', '7.7-17 GHz', '20-44 GHz', '61-77 GHz', '81.5-105.4 GHz',\\\n",
    "                             '136.2-163.1 GHz', '203-375 GHz', '150-500 microns', '60-100 microns', '10-30 microns',\\\n",
    "                             '3-8 microns', 'K', 'H', 'J', 'I', 'i', 'r', 'V', 'g', 'B', 'u', 'NUV', 'FUV', 'Ly alpha',\\\n",
    "                             '0.1-12 keV', '14-195 keV', '0.1-100 GeV'])"
   ]
  },
  {
   "cell_type": "code",
   "execution_count": 66,
   "metadata": {},
   "outputs": [],
   "source": [
    "if group_bands_flag:\n",
    "    split_at              = unique_band_freqs.searchsorted(limits_freqs)\n",
    "    groups_band_freqs     = np.split(unique_band_freqs, split_at)"
   ]
  },
  {
   "cell_type": "code",
   "execution_count": 67,
   "metadata": {},
   "outputs": [],
   "source": [
    "if group_bands_flag:\n",
    "    groups_band_names     = np.split(band_names_flux, split_at)"
   ]
  },
  {
   "cell_type": "code",
   "execution_count": 68,
   "metadata": {},
   "outputs": [],
   "source": [
    "if group_bands_flag:\n",
    "    merged_flux_catalog_df     = pd.DataFrame()"
   ]
  },
  {
   "cell_type": "code",
   "execution_count": 69,
   "metadata": {},
   "outputs": [],
   "source": [
    "if group_bands_flag:\n",
    "    for index, merged_name in enumerate(limits_names):\n",
    "        merged_flux_catalog_df['Flux ' + merged_name] = tab_ned_phot_df[groups_band_names[index]].median(axis='columns', skipna=True)"
   ]
  },
  {
   "cell_type": "code",
   "execution_count": 70,
   "metadata": {},
   "outputs": [],
   "source": [
    "if group_bands_flag:\n",
    "    merged_flux_catalog_tab = Table.from_pandas(merged_flux_catalog_df)\n",
    "    for col_name in merged_flux_catalog_tab.colnames:\n",
    "        merged_flux_catalog_tab[col_name].fill_value = np.nan\n",
    "        merged_flux_catalog_tab[col_name].unit       = 'Jy'"
   ]
  },
  {
   "cell_type": "code",
   "execution_count": 71,
   "metadata": {},
   "outputs": [],
   "source": [
    "if save_group_bands_flag:\n",
    "    merged_flux_catalog_tab.write(cat_path + 'merged_bands_ned_phot_flux_20cm_z_5_nov_05.fits', format='fits', overwrite=True)"
   ]
  },
  {
   "cell_type": "code",
   "execution_count": 72,
   "metadata": {},
   "outputs": [],
   "source": [
    "if load_group_bands_flag:\n",
    "    merged_flux_catalog_tab = Table.read(cat_path + 'merged_bands_ned_phot_flux_20cm_z_5_nov_05.fits', format='fits')"
   ]
  },
  {
   "cell_type": "code",
   "execution_count": 73,
   "metadata": {},
   "outputs": [],
   "source": [
    "if merge_tables_flag:\n",
    "    large_merged_tab = hstack([full_init_table, result_table_simbad, merged_flux_catalog_tab], join_type='outer')\n",
    "    # large_full_tab   = hstack([full_init_table, result_table_simbad, tab_ned_phot], join_type='outer')"
   ]
  },
  {
   "cell_type": "code",
   "execution_count": 74,
   "metadata": {},
   "outputs": [],
   "source": [
    "if save_merged_tabs_flag:\n",
    "    large_merged_tab.write(cat_path + 'merged_bands_ned_phot_simbad_combo_flux_20cm_z_5_nov_05.fits', format='fits', overwrite=True)\n",
    "    # large_full_tab.write(cat_path + 'ned_phot_simbad_combo_flux_20cm_z_5_nov_05.fits', format='fits', overwrite=True)"
   ]
  },
  {
   "cell_type": "code",
   "execution_count": null,
   "metadata": {},
   "outputs": [],
   "source": []
  },
  {
   "cell_type": "code",
   "execution_count": null,
   "metadata": {},
   "outputs": [],
   "source": []
  },
  {
   "cell_type": "code",
   "execution_count": null,
   "metadata": {},
   "outputs": [],
   "source": []
  },
  {
   "cell_type": "code",
   "execution_count": null,
   "metadata": {},
   "outputs": [],
   "source": []
  },
  {
   "cell_type": "code",
   "execution_count": null,
   "metadata": {},
   "outputs": [],
   "source": []
  },
  {
   "cell_type": "code",
   "execution_count": null,
   "metadata": {},
   "outputs": [],
   "source": []
  },
  {
   "cell_type": "code",
   "execution_count": null,
   "metadata": {},
   "outputs": [],
   "source": []
  },
  {
   "cell_type": "code",
   "execution_count": null,
   "metadata": {},
   "outputs": [],
   "source": []
  },
  {
   "cell_type": "code",
   "execution_count": null,
   "metadata": {},
   "outputs": [],
   "source": []
  },
  {
   "cell_type": "code",
   "execution_count": null,
   "metadata": {},
   "outputs": [],
   "source": []
  },
  {
   "cell_type": "code",
   "execution_count": null,
   "metadata": {},
   "outputs": [],
   "source": []
  },
  {
   "cell_type": "code",
   "execution_count": null,
   "metadata": {},
   "outputs": [],
   "source": []
  },
  {
   "cell_type": "code",
   "execution_count": null,
   "metadata": {},
   "outputs": [],
   "source": []
  },
  {
   "cell_type": "code",
   "execution_count": null,
   "metadata": {},
   "outputs": [],
   "source": []
  },
  {
   "cell_type": "code",
   "execution_count": null,
   "metadata": {},
   "outputs": [],
   "source": []
  },
  {
   "cell_type": "code",
   "execution_count": null,
   "metadata": {},
   "outputs": [],
   "source": []
  },
  {
   "cell_type": "code",
   "execution_count": null,
   "metadata": {},
   "outputs": [],
   "source": []
  },
  {
   "cell_type": "code",
   "execution_count": null,
   "metadata": {},
   "outputs": [],
   "source": []
  },
  {
   "cell_type": "code",
   "execution_count": null,
   "metadata": {},
   "outputs": [],
   "source": []
  },
  {
   "cell_type": "markdown",
   "metadata": {},
   "source": [
    "We load data from the VLA-COSMOS 3 GHz Large Project (**Smolčić et al. 2017**),  \n",
    "which has been correlated with the sources from the VLA-COSMOS Large Project 1.4-GHz Source Catalog (**Schinnerer et al., 2007**).\n",
    "\n",
    "Thus, we have only considered sources with observed (not estimated) $1.4$ GHz fluxes. That is, with valid  \n",
    "values in the table column `flux_20cm`.\n",
    "\n",
    "We can, also, separate sources which have an AGN X-ray counterpart\n",
    "with the flag `cosm_xray_flag`"
   ]
  },
  {
   "cell_type": "markdown",
   "metadata": {},
   "source": [
    "We want, also, to add $z > 6$ QSOs from the list in  \n",
    "Table 3 in the review of **Inayoshi, Visbal, and Haiman, 2020**.  \n",
    "Six of them have $z > 7$\n",
    "\n",
    "Not all of them have $1.4$ GHz measurements. Others have  \n",
    "measurements in different frequencies which can be translated  \n",
    "into the desired frequency using, for instance, the relation  \n",
    "from **Butler et al., 2018**:\n",
    "\n",
    "$$S_{a} = S_{b} \\times (\\frac{\\nu_{b}}{\\nu_{a}})^{\\alpha}$$  \n",
    "\n",
    "We load the data from these sources. Fluxes from different frequencies than $1.4$ GHz are translated to the needed value."
   ]
  },
  {
   "cell_type": "markdown",
   "metadata": {},
   "source": [
    "Cumulate values into one array except 250GHz data.  \n",
    "Millimetre luminosities will be used separately since we cannot be completely  \n",
    "sure that they represent, fully, non-thermal emission (from AGN) and not dust."
   ]
  },
  {
   "cell_type": "markdown",
   "metadata": {},
   "source": [
    "To complement the dataset, we also load four $z > 5.5$ sources which  \n",
    "come from the `radio` catalog in the `Heasarc` database.  \n",
    "We queried the objects which have $1.4$ GHz observations that  \n",
    "are within a $2.5$ arcsec of an object from the `SDSS QUASAR DR12`  \n",
    "catalog. We discard the sources that are already included in the `FIRST`  \n",
    "catalog, to avoid repetition."
   ]
  },
  {
   "cell_type": "markdown",
   "metadata": {},
   "source": [
    "To enlarge the size of the sample, we can also query  \n",
    "the same sample, but extending the redshift range to all positive  \n",
    "values. We can include, too, the exclusion of ***low quality*** redshift_values (or not)."
   ]
  },
  {
   "cell_type": "markdown",
   "metadata": {},
   "source": [
    "We also include sources from the field `Stripe82` with `VLA` observations.  \n",
    "The data has been obtained from **Hodge et al., 2011** (`VLASS821P4`; VLA SDSS Stripe 82 Survey 1.4-GHz Source Catalog).  \n",
    "These sources have been crossmatched with the `SDSSQUASAR` catalog to obtain their redshift value."
   ]
  },
  {
   "cell_type": "markdown",
   "metadata": {},
   "source": [
    "---"
   ]
  },
  {
   "cell_type": "markdown",
   "metadata": {},
   "source": [
    "### Calculate luminosities"
   ]
  },
  {
   "cell_type": "markdown",
   "metadata": {},
   "source": [
    "In the future, we will calculate luminosities (in W/Hz) for different datasets  \n",
    "using the expression\n",
    "\n",
    "$$L_{1.4\\mathrm{GHz}} = 4 \\pi \\mathrm{d}^{2}_{L} f_{1.4\\mathrm{GHz}} (1 + z)^{\\alpha - 1}$$\n",
    "\n",
    "which comes from Alexander et al. 2003\n",
    "\n",
    "We can also obtain that luminosity from the flux in $3$ GHz as\n",
    "\n",
    "$$L_{1.4\\mathrm{GHz}} = 4 \\pi \\mathrm{d}^{2}_{L} {(\\frac{3}{1.4})}^{\\alpha} f_{3\\mathrm{GHz}} (1 + z)^{\\alpha - 1}$$\n",
    "\n",
    "This expression comes from Delhaize et al. 2017."
   ]
  },
  {
   "cell_type": "markdown",
   "metadata": {},
   "source": [
    "---"
   ]
  },
  {
   "cell_type": "markdown",
   "metadata": {},
   "source": [
    "### Obtaining values from tables"
   ]
  },
  {
   "cell_type": "markdown",
   "metadata": {},
   "source": [
    "Now, we can use the points we are interested in. Our sample from **Inayoshi et al., 2020** and the  \n",
    "sources from **SDSS+FIRST** with $z>5.5$."
   ]
  },
  {
   "cell_type": "markdown",
   "metadata": {},
   "source": [
    "Another option to display the data is, instead of showing redshift in the  \n",
    "horizontal axis, have the mass of the observed objects.\n",
    "\n",
    "**Inayoshi et al., 2020** use the rest-frame UV magnitude $\\mathrm{M}_{1450}$  \n",
    "to calculate the mass as:\n",
    "\n",
    "$$M = 10^{[-(\\mathrm{M}_{1450} + 3.459) / 2.5]} [\\mathrm{M}_{\\odot}]$$\n",
    "\n",
    "which yields, on average, the published virial mass estimates for those available."
   ]
  },
  {
   "cell_type": "markdown",
   "metadata": {},
   "source": [
    "Create formal arrays from catalogs to merge them"
   ]
  },
  {
   "cell_type": "markdown",
   "metadata": {},
   "source": [
    "Arrays from `SDSS+FIRST`"
   ]
  },
  {
   "cell_type": "code",
   "execution_count": null,
   "metadata": {},
   "outputs": [],
   "source": [
    "# #limit_z_sdss_up       = 5.5\n",
    "# limit_z_sdss          = 0.0\n",
    "# filter_sdss_z         = np.array(sdss_milli['Z'] > limit_z_sdss)\n",
    "# xmm_freq              = 1.47e18  # Hz. Frequency for 0.2-12 keV observations"
   ]
  },
  {
   "cell_type": "markdown",
   "metadata": {},
   "source": [
    "Arrays from the `COSMOS` Field"
   ]
  },
  {
   "cell_type": "markdown",
   "metadata": {},
   "source": [
    "Arrays from `vlass821p4` catalog."
   ]
  },
  {
   "cell_type": "markdown",
   "metadata": {},
   "source": [
    "Arrays from the Extended **Inayoshi et al., 2020** catalog ($z > 5.5$)."
   ]
  },
  {
   "cell_type": "markdown",
   "metadata": {},
   "source": [
    "Merging `SDSS+FIRST` and the extended catalog from **Inayoshi et al., 2020**"
   ]
  },
  {
   "cell_type": "markdown",
   "metadata": {},
   "source": [
    "Merging `SDSS+FIRST`+**Inayoshi et al., 2020** and `VLASS821P4` data"
   ]
  },
  {
   "cell_type": "markdown",
   "metadata": {},
   "source": [
    "Merging `SDSS+FIRST`+**Inayoshi et al., 2020**+`VLASS821P4` and `COSMOS` data"
   ]
  },
  {
   "cell_type": "markdown",
   "metadata": {},
   "source": [
    "At this point, we also want to obtain more properties from the selected  \n",
    "sources (**Inayoshi et al., 2020** + **SDSS+FIRST**). We will use `astroquery` to  \n",
    "obtain information from `simbad`."
   ]
  },
  {
   "cell_type": "markdown",
   "metadata": {},
   "source": [
    "First, we obtain the names and coordinates of our sources to query them."
   ]
  },
  {
   "cell_type": "markdown",
   "metadata": {},
   "source": [
    "Create `MaskedColumns` (from `Astropy`) using the data just collected."
   ]
  },
  {
   "cell_type": "markdown",
   "metadata": {},
   "source": [
    "Then, we can query the database to obtain the desired data.  In this point,  \n",
    "we also add more columns to be queried."
   ]
  },
  {
   "cell_type": "markdown",
   "metadata": {},
   "source": [
    "All sources but those from `COSMOS` catalog have meaningful (for `simbad`) names.  \n",
    "Thus, separate queries will be executed. And, to standardize results, queries  \n",
    "will only be based on coordinates (not names)."
   ]
  },
  {
   "cell_type": "markdown",
   "metadata": {},
   "source": [
    "Query `SDSS+FIRST` (`milliquasar`) + **Inayoshi et al., 2020** + `VLASS821P4` sources."
   ]
  },
  {
   "cell_type": "markdown",
   "metadata": {},
   "source": [
    "Query for `COSMOS` sources."
   ]
  },
  {
   "cell_type": "markdown",
   "metadata": {},
   "source": [
    "Query remaining sources"
   ]
  },
  {
   "cell_type": "markdown",
   "metadata": {},
   "source": [
    "We save the query to a file for future executions."
   ]
  },
  {
   "cell_type": "markdown",
   "metadata": {},
   "source": [
    "Steps to create a copy of table to save it as `fits` file."
   ]
  },
  {
   "cell_type": "markdown",
   "metadata": {},
   "source": [
    "To save running time, we can load the data from a file."
   ]
  },
  {
   "cell_type": "markdown",
   "metadata": {},
   "source": [
    "From this point, we merge the data from the query to `simbad` with the  \n",
    "values from this notebook (**Inayoshi et al., 2020** and **SDSS+FIRST**).  \n",
    "In order to do this, we convert the data into `astropy` columns, and then  \n",
    "into `astropy` tables. They will be ready to be exported."
   ]
  },
  {
   "cell_type": "markdown",
   "metadata": {},
   "source": [
    "We write the table into a file. It can be `.fits`, `.votable`, etc."
   ]
  },
  {
   "cell_type": "markdown",
   "metadata": {},
   "source": [
    "To save running time, we can load the data from a file."
   ]
  },
  {
   "cell_type": "markdown",
   "metadata": {},
   "source": [
    "Query the objects of the table in other catalogs and services."
   ]
  },
  {
   "cell_type": "markdown",
   "metadata": {},
   "source": [
    "Querying sources with name in `Ned`."
   ]
  },
  {
   "cell_type": "markdown",
   "metadata": {},
   "source": [
    "As before, we can do it with coordinates.  \n",
    "\n",
    "First, we query the coordinates. If we found something,  \n",
    "we use the name of the source to obtain it photometry."
   ]
  },
  {
   "cell_type": "markdown",
   "metadata": {},
   "source": [
    "Save multiple data tables into one file with `pandas`"
   ]
  },
  {
   "cell_type": "markdown",
   "metadata": {},
   "source": [
    "We gather the names and frequencies of all columns present in tables from `Ned`."
   ]
  },
  {
   "cell_type": "markdown",
   "metadata": {},
   "source": [
    "Unique rows (name + frequency pair) are retrieved from the previous list."
   ]
  },
  {
   "cell_type": "markdown",
   "metadata": {},
   "source": [
    "We obtain the size of this new array. It represents the number of  \n",
    "unique passband configurations gathered from querying `Ned`."
   ]
  },
  {
   "cell_type": "markdown",
   "metadata": {},
   "source": [
    "Saving this list into a plain text file."
   ]
  },
  {
   "cell_type": "markdown",
   "metadata": {},
   "source": [
    "This new file can also be loaded."
   ]
  },
  {
   "cell_type": "markdown",
   "metadata": {},
   "source": [
    "Now, we create a unique table from all the individual photometry tables obtained after  \n",
    "querying `Ned`. We discard measurements which have already been reported (for each individual source)."
   ]
  },
  {
   "cell_type": "markdown",
   "metadata": {},
   "source": [
    "We leave uncertainty values as string to retain information about possible upper/lower limits."
   ]
  },
  {
   "cell_type": "markdown",
   "metadata": {},
   "source": [
    "This new merged column shows measurements for the following number of bands."
   ]
  },
  {
   "cell_type": "markdown",
   "metadata": {},
   "source": [
    "For data completeness, we mask entries for `MAIN_ID` and `COORD` columns."
   ]
  },
  {
   "cell_type": "markdown",
   "metadata": {},
   "source": [
    "We add a column with the redshift uncertainties from Ned."
   ]
  },
  {
   "cell_type": "markdown",
   "metadata": {},
   "source": [
    "We transform `astropy` tables into `pandas` data frames for further calculations."
   ]
  },
  {
   "cell_type": "markdown",
   "metadata": {},
   "source": [
    "In this point, we can merge both `simbad` and `Ned` tables into a larger one."
   ]
  },
  {
   "cell_type": "markdown",
   "metadata": {},
   "source": [
    "Remove duplicates in name."
   ]
  },
  {
   "cell_type": "markdown",
   "metadata": {},
   "source": [
    "We save this new table into a `HDF5`-format file for future access."
   ]
  },
  {
   "cell_type": "markdown",
   "metadata": {},
   "source": [
    "If needed, we can read the table from an external file to avoid extra running time."
   ]
  },
  {
   "cell_type": "markdown",
   "metadata": {},
   "source": [
    "And this `pandas` data frame can be transformed into an `astropy` table."
   ]
  },
  {
   "cell_type": "code",
   "execution_count": null,
   "metadata": {},
   "outputs": [],
   "source": []
  },
  {
   "cell_type": "code",
   "execution_count": null,
   "metadata": {},
   "outputs": [],
   "source": []
  }
 ],
 "metadata": {
  "kernelspec": {
   "display_name": "Python 3",
   "language": "python",
   "name": "python3"
  },
  "language_info": {
   "codemirror_mode": {
    "name": "ipython",
    "version": 3
   },
   "file_extension": ".py",
   "mimetype": "text/x-python",
   "name": "python",
   "nbconvert_exporter": "python",
   "pygments_lexer": "ipython3",
   "version": "3.7.8"
  }
 },
 "nbformat": 4,
 "nbformat_minor": 4
}
